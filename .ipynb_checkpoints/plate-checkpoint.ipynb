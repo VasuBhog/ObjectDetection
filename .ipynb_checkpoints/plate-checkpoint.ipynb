{
 "cells": [
  {
   "cell_type": "markdown",
   "metadata": {},
   "source": [
    "<h1>Import Libraries"
   ]
  },
  {
   "cell_type": "code",
   "execution_count": 1,
   "metadata": {},
   "outputs": [],
   "source": [
    "import numpy as np\n",
    "import time\n",
    "import sys\n",
    "import os\n",
    "import random\n",
    "from skimage import io\n",
    "from skimage.transform import resize\n",
    "import pandas as pd\n",
    "from matplotlib import pyplot as plt\n",
    "from shutil import copyfile\n",
    "\n",
    "import shutil\n",
    "import cv2\n",
    "import csv\n",
    "# import tensorflow as tf\n",
    "# from keras.preprocessing.image import ImageDataGenerator\n",
    "path = \"OID/Dataset/train/Vehicle registration plate\"\n"
   ]
  },
  {
   "cell_type": "code",
   "execution_count": null,
   "metadata": {},
   "outputs": [],
   "source": [
    "def setup():\n",
    "    base_path = 'OID\\csv_folder'\n",
    "    images_boxable_fname = 'train-images-boxable.csv'\n",
    "    annotations_bbox_fname = 'train-annotations-bbox.csv'\n",
    "    class_descriptions_fname = 'class-descriptions-boxable.csv'\n",
    "\n",
    "    #SETTING Dataframe from CSV\n",
    "    images_boxable = pd.read_csv(os.path.join(base_path, images_boxable_fname))\n",
    "    # print(images_boxable.head())\n",
    "\n",
    "    annotations_bbox = pd.read_csv(os.path.join(base_path, annotations_bbox_fname))\n",
    "    print(annotations_bbox.head())\n",
    "\n",
    "    class_descriptions = pd.read_csv(os.path.join(base_path, class_descriptions_fname))\n",
    "    # print(class_descriptions.head())\n",
    "    \n",
    "    #Get the Plate images\n",
    "    plate_pd = class_descriptions[class_descriptions['class']=='Vehicle registration plate']\n",
    "    label_plate = plate_pd['name'].values[0]\n",
    "    print(plate_pd)\n",
    "    #Find plates in annotations\n",
    "    plate_bbox = annotations_bbox[annotations_bbox['LabelName']==label_plate]\n",
    "    return plate_bbox"
   ]
  },
  {
   "cell_type": "code",
   "execution_count": null,
   "metadata": {},
   "outputs": [],
   "source": [
    "def get_plates(plate_bbox):\n",
    "    #Amount of images in dataset\n",
    "    print('There are %d plate in the dataset' %(len(plate_bbox)))\n",
    "    plate_img_id = plate_bbox['ImageID']\n",
    "\n",
    "    #Amount of unique images\n",
    "    plate_img_id = np.unique(plate_img_id)\n",
    "    print('There are %d plates in the dataset' %(len(plate_img_id)))\n",
    "\n",
    "    # Shuffle the ids and pick the first 1000 ids\n",
    "    copy_plate_id = plate_img_id.copy()\n",
    "    np.random.seed(1)\n",
    "    np.random.shuffle(copy_plate_id)\n",
    "\n",
    "    n = 1000\n",
    "    subplate_img_id = copy_plate_id[:n]\n",
    "    # print(subplate_img_id)\n",
    "\n",
    "    #Find images in randomn list\n",
    "    files = os.listdir(path)\n",
    "    train_plate = []\n",
    "    for f in files:\n",
    "        f = f[0:-4]\n",
    "        train_plate.append(f)\n",
    "\n",
    "    #gets the 1000 matched  images\n",
    "    rand_plates = list(set(train_plate).intersection(subplate_img_id))\n",
    "    return rand_plates"
   ]
  },
  {
   "cell_type": "code",
   "execution_count": null,
   "metadata": {},
   "outputs": [],
   "source": [
    "def plate_dataframe(rand_plates):\n",
    "    temp_train = []\n",
    "    for t in rand_plates:\n",
    "        temp_train.append(\"/\" + t + '.jpg')\n",
    "    \n",
    "    # train_dict = {'FilePath','Filename','XMin':[], 'XMax':[], 'YMin':[], 'YMax':[], 'ClassName'}\n",
    "    train_df = pd.DataFrame(columns=['FilePath','Filename','XMin', 'XMax', 'YMin', 'YMax', 'ClassName'])\n",
    "    \n",
    "    #copy files folder images\n",
    "    for x in temp_train:\n",
    "        train_path = path + x\n",
    "        isFile = os.path.isfile(train_path)\n",
    "        #checks to see if patht exists\n",
    "        if(isFile):\n",
    "            newPath = shutil.copy(train_path, \"OID/Dataset/train/Vehicle registration plate/images\")\n",
    "            # train_dict['FilePath'] = newPath\n",
    "            # train_dict['ClassName'] = \"Vehicle registration plate\"\n",
    "            train_df = train_df.append({'FilePath': newPath,'Filename': x[1:-4],'ClassName':\"Vehicle registration plate\"},ignore_index=True)\n",
    "\n",
    "\n",
    "    #labels folder append info to that\n",
    "    lfiles = os.listdir(os.path.join(path,\"Label\"))"
   ]
  },
  {
   "cell_type": "code",
   "execution_count": null,
   "metadata": {},
   "outputs": [],
   "source": []
  }
 ],
 "metadata": {
  "kernelspec": {
   "display_name": "Python 3",
   "language": "python",
   "name": "python3"
  },
  "language_info": {
   "codemirror_mode": {
    "name": "ipython",
    "version": 3
   },
   "file_extension": ".py",
   "mimetype": "text/x-python",
   "name": "python",
   "nbconvert_exporter": "python",
   "pygments_lexer": "ipython3",
   "version": "3.7.0"
  }
 },
 "nbformat": 4,
 "nbformat_minor": 4
}
