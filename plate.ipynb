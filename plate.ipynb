{
 "cells": [
  {
   "cell_type": "markdown",
   "metadata": {},
   "source": [
    "# Import Libraries \n",
    "### Run pip install -r requirments.txt"
   ]
  },
  {
   "cell_type": "code",
   "execution_count": 1,
   "metadata": {},
   "outputs": [
    {
     "name": "stdout",
     "output_type": "stream",
     "text": [
      "Loaded Libraries and set global variables\n"
     ]
    }
   ],
   "source": [
    "import numpy as np\n",
    "import time\n",
    "import sys\n",
    "import os\n",
    "import random\n",
    "from skimage import io\n",
    "from skimage.transform import resize\n",
    "import pandas as pd\n",
    "from matplotlib import pyplot as plt\n",
    "from shutil import copyfile\n",
    "\n",
    "import shutil\n",
    "import cv2\n",
    "import csv\n",
    "\n",
    "#Global paths / variables\n",
    "path = \"OID/Dataset/train/Vehicle registration plate\"\n",
    "train_df = pd.DataFrame(columns=['FilePath','Filename','XMin', 'XMax', 'YMin', 'YMax', 'ClassName','X','Y','Width','Height'])\n",
    "\n",
    "print(\"Loaded Libraries and set global variables\")"
   ]
  },
  {
   "cell_type": "markdown",
   "metadata": {},
   "source": [
    "\n",
    "# How to Download Images\n",
    "In order to download the necessary files, you need to download the Open Images Toolkit\n",
    "Below is the code to clone and download the image files:\n",
    "\n",
    "`git clone https://github.com/EscVM/OIDv4_ToolKit.git`\n",
    "\n",
    "Once cloned, then go into the repository:\n",
    "\n",
    "`cd OIDv4_ToolKit`\n",
    "\n",
    "and run the main.py with the images you want downloaded\n",
    "\n",
    "`python main.py downloader --classes Vehicle_registration_plates --type_csv train`\n",
    "\n",
    "This will download all the images in the folder **OID**\n",
    "\n",
    "The folder should directory should look like this:\n",
    "\n",
    "![OID Directory](OID_Image.JPG)\n",
    "\n"
   ]
  },
  {
   "cell_type": "code",
   "execution_count": 4,
   "metadata": {},
   "outputs": [
    {
     "name": "stdout",
     "output_type": "stream",
     "text": [
      "There are 7852 plates in the Open Images Dataset\n",
      "Empty DataFrame\n",
      "Columns: [FilePath, Filename, XMin, XMax, YMin, YMax, ClassName, X, Y, Width, Height]\n",
      "Index: []\n"
     ]
    }
   ],
   "source": [
    "#Understanding the CSV Files \n",
    "base_path = 'OID/csv_folder'\n",
    "annotations_bbox_fname = 'train-annotations-bbox.csv'\n",
    "class_descriptions_fname = 'class-descriptions-boxable.csv'\n",
    "\n",
    "#annotations\n",
    "annotations_bbox = pd.read_csv(os.path.join(base_path, annotations_bbox_fname))\n",
    "\n",
    "class_descriptions = pd.read_csv(os.path.join(base_path, class_descriptions_fname),header=None)\n",
    "class_descriptions.columns = [\"name\",\"class\"]\n",
    "\n",
    "plate_pd = class_descriptions[class_descriptions['class']=='Vehicle registration plate']\n",
    "label_plate = plate_pd['name'].values[0]\n",
    "\n",
    "plate_bbox = annotations_bbox[annotations_bbox['LabelName']==label_plate]\n",
    "\n",
    "# #Amount of images in dataset\n",
    "plate_img_id = plate_bbox['ImageID']\n",
    "print('There are %d plates in the Open Images Dataset' %(len(plate_img_id)))\n",
    "print(\"\\n\" + train_df)"
   ]
  },
  {
   "cell_type": "markdown",
   "metadata": {},
   "source": [
    "# Create a dataframe to store the Images \n",
    "\n",
    "The next section will find all the images download based on the path (\"OID/Dataset/train/Vehicle registration plate\")\n",
    "\n",
    "Then initialize them in the dataframe with\n",
    "\n",
    "Columns: [FilePath, Filename, XMin, XMax, YMin, YMax, ClassName, X, Y, Width, Height]\n"
   ]
  },
  {
   "cell_type": "code",
   "execution_count": null,
   "metadata": {},
   "outputs": [],
   "source": [
    "#Get the plates images to store in pandas\n",
    "\n",
    "#Find unique images\n",
    "files = os.listdir(path)\n",
    "train_plate = []\n",
    "for f in files:\n",
    "    f = f[0:-4]\n",
    "    train_plate.append(f)\n",
    "\n",
    "#gets the unique images\n",
    "rand_plates = list(set(train_plate))\n",
    "\n",
    "print('There are %d plates in the dataset' %(len(rand_plates)))\n",
    "\n",
    "global train_df\n",
    "\n",
    "temp_train = []\n",
    "for t in rand_plates:\n",
    "    temp_train.append(\"/\" + t + '.jpg')\n",
    "\n",
    "for x in temp_train:\n",
    "    train_path = path + x\n",
    "    isFile = os.path.isfile(train_path)\n",
    "    #checks to see if path exists\n",
    "    if(isFile):\n",
    "        train_df = train_df.append({'FilePath': train_path,'Filename': x[1:-4],'ClassName':\"0\"},ignore_index=True)\n"
   ]
  },
  {
   "cell_type": "markdown",
   "metadata": {},
   "source": [
    "# Adding the Bounding Box Labels and YOLO Normalization\n",
    "\n",
    "* One row per object\n",
    "* Each row is class x_center y_center width height format.\n",
    "* Box coordinates must be in normalized xywh format (from 0 - 1). \n",
    "    * If your boxes are in pixels, divide x_center and width by image width, and y_center and height by image height.\n",
    "* Class numbers are zero-indexed (start from 0).\n",
    "\n",
    "Yolo Formatting\n",
    "    # class x_center y_center width    height\n",
    "    # 0     0.716797 0.395833 0.216406 0.147222\n",
    "    # 0     0.687109 0.379167 0.255469 0.158333"
   ]
  },
  {
   "cell_type": "code",
   "execution_count": null,
   "metadata": {},
   "outputs": [],
   "source": [
    "#labels folder append info to that\n",
    "lfiles = os.listdir(os.path.join(path,\"Label\"))\n",
    "\n",
    "for a in lfiles:\n",
    "    if(train_df['Filename'].str.contains(a[0:-4]).any()):\n",
    "        index = train_df.index[train_df[\"Filename\"] == a[0:-4]].tolist()\n",
    "        image = cv2.imread(train_df['FilePath'][index[0]])\n",
    "        image_height, image_width, channel = image.shape\n",
    "        with open(os.path.join(os.path.join(path,\"Label\"),a)) as labeled_file:\n",
    "            csv_reader = csv.reader(labeled_file, delimiter=\" \")\n",
    "            temp_xmin = [] #left x\n",
    "            temp_ymax = [] #top Y\n",
    "            temp_xmax = [] #right x\n",
    "            temp_ymin = [] #bottom y\n",
    "            temp_x = []; temp_y = []; temp_width = []; temp_height = []\n",
    "            for row in csv_reader:\n",
    "                absolute_width = abs(float(row[3]) - float(row[5]))\n",
    "                absolute_height = abs(float(row[4]) - float(row[6]))\n",
    "                absolute_x = float(row[3]) + absolute_width/2 \n",
    "                absolute_y = float(row[4]) + absolute_height/2\n",
    "\n",
    "                x = absolute_x / image_width\n",
    "                y = absolute_y / image_height\n",
    "                width = absolute_width / image_width\n",
    "                height = absolute_height / image_height\n",
    "                \n",
    "                temp_xmin.append(row[3]) #left x\n",
    "                temp_ymax.append(row[4]) #top Y\n",
    "                temp_xmax.append(row[5]) #right x\n",
    "                temp_ymin.append(row[6]) #bottom y\n",
    "\n",
    "                temp_x.append(str(x))\n",
    "                temp_y.append(str(y))\n",
    "                temp_width.append(str(width))\n",
    "                temp_height.append(str(height))\n",
    "            #get index of file\n",
    "            train_df.at[index[0], 'XMin'] = temp_xmin\n",
    "            train_df.at[index[0], 'YMax'] = temp_ymax   \n",
    "            train_df.at[index[0], 'XMax'] = temp_xmax \n",
    "            train_df.at[index[0], 'YMin'] = temp_ymin\n",
    "            \n",
    "            train_df.at[index[0], 'X'] = temp_x\n",
    "            train_df.at[index[0], 'Y'] = temp_y   \n",
    "            train_df.at[index[0], 'Width'] = temp_width \n",
    "            train_df.at[index[0], 'Height'] = temp_height\n",
    "\n",
    "#Yolo Formatting\n",
    "# 0 0.716797 0.395833 0.216406 0.147222\n",
    "# 0 0.687109 0.379167 0.255469 0.158333]"
   ]
  },
  {
   "cell_type": "markdown",
   "metadata": {},
   "source": [
    "## We need create new text labels for each image using the Yolo Coordinates\n",
    "\n",
    "We can simply get this by the dataframe\n",
    "columns: ClassName, X, Y, Width, Height\n"
   ]
  },
  {
   "cell_type": "code",
   "execution_count": null,
   "metadata": {},
   "outputs": [],
   "source": [
    "#New Normalized Labels\n",
    "file_name = train_df['Filename']\n",
    "for i in range(len(file_name)):\n",
    "    new_file = file_name[i] + \".txt\"\n",
    "    with open(os.path.join(path,new_file),\"w+\") as text_file:\n",
    "        for j in range(len(train_df['X'][i])):\n",
    "            line = \"0 \" + train_df['X'][i][j] + \" \" \\\n",
    "                        + train_df['Y'][i][j] + \" \" \\\n",
    "                        + train_df['Width'][i][j] + \" \" \\\n",
    "                        + train_df['Height'][i][j] + \"\\n\"\n",
    "            text_file.write(line)\n"
   ]
  },
  {
   "cell_type": "markdown",
   "metadata": {},
   "source": [
    "## Next is to divide the files into Train and Test\n",
    "\n",
    "Which can be done below by setting the test value to take the first n images:"
   ]
  },
  {
   "cell_type": "code",
   "execution_count": null,
   "metadata": {},
   "outputs": [],
   "source": [
    "#Train and Test File\n",
    "#C:\\Users\\bhogv\\ObjectDetection\\OID\\Dataset\\train\\Vehicle registration plate\\0a0a00b2fbe89a47.jpg\n",
    "file_name = train_df['Filename']\n",
    "# Create and/or truncate train.txt and test.txt\n",
    "with open('test.txt', 'w') as test:\n",
    "    pass\n",
    "with open('train.txt', 'w') as train:\n",
    "    pass\n",
    "\n",
    "for i in range(len(train_df)):\n",
    "    file_path = \"C:/Users/bhogv/ObjectDetection/OID/Dataset/train/Vehicle registration plate/\" + file_name[i] + \".jpg\"\n",
    "    if i < 20:\n",
    "        # save to test\n",
    "        with open('test.txt', 'a') as test:\n",
    "            test.write(file_path + \"\\n\")\n",
    "    else:\n",
    "        # save to train\n",
    "        with open('train.txt', 'a') as train:\n",
    "            train.write(file_path + \"\\n\")\n"
   ]
  },
  {
   "cell_type": "markdown",
   "metadata": {},
   "source": [
    "# Next is Plotting the Boundary Box \n",
    "\n",
    "### We can call the Normalized Coordinates and translate them into (x1,y1) and (x2,y2) in order to use OpenCV to plot the boundary"
   ]
  },
  {
   "cell_type": "code",
   "execution_count": null,
   "metadata": {},
   "outputs": [],
   "source": [
    "#train_df = pd.DataFrame(columns=['FilePath','Filename','XMin', 'XMax', 'YMin', 'YMax', 'ClassName'])\n",
    "gray_image = cv2.imread(file_img, cv2.IMREAD_COLOR)\n",
    "image = cv2.cvtColor(gray_image,cv2.COLOR_BGR2RGB)\n",
    "height, width, channel = image.shape\n",
    "print(f\"Image: {image.shape}\")\n",
    "cv2.resize(image,(128,128))\n",
    "for index in range(len(train_df[\"X\"][0])):\n",
    "    xmin = int(float(train_df['XMin'][0][index]))\n",
    "    xmax = int(float(train_df['XMax'][0][index]))\n",
    "    ymin = int(float(train_df['YMin'][0][index]))\n",
    "    ymax = int(float(train_df['YMax'][0][index]))\n",
    "\n",
    "    nor_x = float(train_df['X'][0][index])\n",
    "    nor_y = float(train_df['Y'][0][index])\n",
    "    nor_width = float(train_df['Width'][0][index])\n",
    "    nor_height = float(train_df['Height'][0][index])\n",
    "    class_name = train_df['ClassName'][0]\n",
    "    \n",
    "    print(nor_x,nor_y,nor_width,nor_height)\n",
    "    \n",
    "    abs_x = nor_x * width\n",
    "    abs_y = nor_y * height\n",
    "    abs_width = nor_width * width\n",
    "    abs_height = nor_height * height\n",
    "\n",
    "    x1 = int(abs_x - abs_width/2) # row[3] = xmin\n",
    "    y1 = int(abs_height + y1) # row[4] = ymin\n",
    "    y2 = int(abs_y - abs_height/2) # row[5] = ymax\n",
    "    x2 = int(abs_width + x1) # row[6] = xmax\n",
    "\n",
    "    # print(f\"Coordinates: {xmin,ymin}, {xmax,ymax}\")\n",
    "    print(f\"Coordinates: {x1,y2}, {x2,y1}\")\n",
    "\n",
    "    cv2.rectangle(image, (x1,y2), (x2,y1), (0,0,255), 1)\n",
    "    # cv2.rectangle(image, (xmin,ymin), (xmax,ymax), (255,0,0), 1)\n",
    "    font = cv2.FONT_HERSHEY_SIMPLEX\n",
    "    cv2.putText(image, \"Plate\", (x1,y1-5), font, 1, (0,0,0), 2)\n",
    "plt.title((train_df['Filename'][0]) + \".jpg\")\n",
    "plt.imshow(image)\n",
    "plt.axis(\"off\")\n",
    "plt.show()\n"
   ]
  },
  {
   "cell_type": "markdown",
   "metadata": {},
   "source": [
    "# Test an Image"
   ]
  },
  {
   "cell_type": "code",
   "execution_count": null,
   "metadata": {},
   "outputs": [],
   "source": [
    "# #Get one image from train_df\n",
    "file_img = train_df['FilePath'][0] \n",
    "plot_box(file_img,train_df)\n",
    "\n"
   ]
  }
 ],
 "metadata": {
  "file_extension": ".py",
  "kernelspec": {
   "display_name": "Python 3",
   "language": "python",
   "name": "python3"
  },
  "language_info": {
   "codemirror_mode": {
    "name": "ipython",
    "version": 3
   },
   "file_extension": ".py",
   "mimetype": "text/x-python",
   "name": "python",
   "nbconvert_exporter": "python",
   "pygments_lexer": "ipython3",
   "version": "3.7.0"
  },
  "mimetype": "text/x-python",
  "name": "python",
  "npconvert_exporter": "python",
  "pygments_lexer": "ipython3",
  "version": 3
 },
 "nbformat": 4,
 "nbformat_minor": 2
}
